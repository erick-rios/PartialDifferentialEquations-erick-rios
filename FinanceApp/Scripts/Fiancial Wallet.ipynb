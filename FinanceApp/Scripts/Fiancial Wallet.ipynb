{
 "cells": [
  {
   "cell_type": "markdown",
   "id": "bf34aaad",
   "metadata": {},
   "source": [
    "# FINANCIAL PORTFOLIO DESING\n"
   ]
  },
  {
   "cell_type": "markdown",
   "id": "8c266d47",
   "metadata": {},
   "source": [
    "## Libraries"
   ]
  },
  {
   "cell_type": "code",
   "execution_count": 1,
   "id": "43295d8d",
   "metadata": {},
   "outputs": [],
   "source": [
    "import numpy as np \n",
    "import matplotlib.pyplot as plt\n",
    "import pandas as pd"
   ]
  },
  {
   "cell_type": "markdown",
   "id": "b9241cfb",
   "metadata": {},
   "source": [
    "## DATA PATH"
   ]
  },
  {
   "cell_type": "code",
   "execution_count": 2,
   "id": "20660d83",
   "metadata": {},
   "outputs": [],
   "source": [
    "dataRoute = '../Data/'"
   ]
  },
  {
   "cell_type": "code",
   "execution_count": 3,
   "id": "2ae8180c",
   "metadata": {},
   "outputs": [],
   "source": [
    "expensesFileName = 'Expenses.csv'\n",
    "incomesFileName  = 'Incomes.csv'"
   ]
  },
  {
   "cell_type": "code",
   "execution_count": 4,
   "id": "f693ef25",
   "metadata": {},
   "outputs": [],
   "source": [
    "expenses = pd.read_csv(dataRoute + expensesFileName)"
   ]
  },
  {
   "cell_type": "code",
   "execution_count": 5,
   "id": "ff2ea8e4",
   "metadata": {},
   "outputs": [
    {
     "data": {
      "text/html": [
       "<div>\n",
       "<style scoped>\n",
       "    .dataframe tbody tr th:only-of-type {\n",
       "        vertical-align: middle;\n",
       "    }\n",
       "\n",
       "    .dataframe tbody tr th {\n",
       "        vertical-align: top;\n",
       "    }\n",
       "\n",
       "    .dataframe thead th {\n",
       "        text-align: right;\n",
       "    }\n",
       "</style>\n",
       "<table border=\"1\" class=\"dataframe\">\n",
       "  <thead>\n",
       "    <tr style=\"text-align: right;\">\n",
       "      <th></th>\n",
       "      <th>DATE</th>\n",
       "      <th>AMOUNT</th>\n",
       "      <th>CATEGORY</th>\n",
       "      <th>THIRD_PARTY</th>\n",
       "      <th>PLACE</th>\n",
       "      <th>COMMENT</th>\n",
       "    </tr>\n",
       "  </thead>\n",
       "  <tbody>\n",
       "    <tr>\n",
       "      <th>0</th>\n",
       "      <td>29/07/2011</td>\n",
       "      <td>500</td>\n",
       "      <td>VARIABLE</td>\n",
       "      <td>ZeroToHero</td>\n",
       "      <td>Youtube</td>\n",
       "      <td>Inscripcion a Phyton</td>\n",
       "    </tr>\n",
       "  </tbody>\n",
       "</table>\n",
       "</div>"
      ],
      "text/plain": [
       "         DATE   AMOUNT   CATEGORY  THIRD_PARTY     PLACE  \\\n",
       "0  29/07/2011      500   VARIABLE   ZeroToHero   Youtube   \n",
       "\n",
       "                 COMMENT  \n",
       "0   Inscripcion a Phyton  "
      ]
     },
     "execution_count": 5,
     "metadata": {},
     "output_type": "execute_result"
    }
   ],
   "source": [
    "expenses"
   ]
  },
  {
   "cell_type": "code",
   "execution_count": 6,
   "id": "f0be202a",
   "metadata": {},
   "outputs": [],
   "source": [
    "incomes = pd.read_csv(dataRoute + incomesFileName)"
   ]
  },
  {
   "cell_type": "code",
   "execution_count": 7,
   "id": "a26111fc",
   "metadata": {},
   "outputs": [
    {
     "data": {
      "text/html": [
       "<div>\n",
       "<style scoped>\n",
       "    .dataframe tbody tr th:only-of-type {\n",
       "        vertical-align: middle;\n",
       "    }\n",
       "\n",
       "    .dataframe tbody tr th {\n",
       "        vertical-align: top;\n",
       "    }\n",
       "\n",
       "    .dataframe thead th {\n",
       "        text-align: right;\n",
       "    }\n",
       "</style>\n",
       "<table border=\"1\" class=\"dataframe\">\n",
       "  <thead>\n",
       "    <tr style=\"text-align: right;\">\n",
       "      <th></th>\n",
       "      <th>DATE</th>\n",
       "      <th>AMOUNT</th>\n",
       "      <th>CATEGORY</th>\n",
       "      <th>THIRD_PARTY</th>\n",
       "      <th>DESCRIPTION</th>\n",
       "    </tr>\n",
       "  </thead>\n",
       "  <tbody>\n",
       "  </tbody>\n",
       "</table>\n",
       "</div>"
      ],
      "text/plain": [
       "Empty DataFrame\n",
       "Columns: [DATE,  AMOUNT,  CATEGORY,  THIRD_PARTY,  DESCRIPTION]\n",
       "Index: []"
      ]
     },
     "execution_count": 7,
     "metadata": {},
     "output_type": "execute_result"
    }
   ],
   "source": [
    "incomes"
   ]
  },
  {
   "cell_type": "code",
   "execution_count": 8,
   "id": "78fb762b",
   "metadata": {},
   "outputs": [],
   "source": [
    "class FinancialPortfolio:\n",
    "    def __init__(self, inputs):\n",
    "        self.inputs = inputs\n",
    "        self.incomes = pd.read_csv(self.inputs['dataRoute'] + self.inputs['incomesFileName'])\n",
    "        self.expenses = pd.read_csv(self.inputs['dataRoute'] + self.inputs['expensesFileName'])\n",
    "    '''\n",
    "    'Add income to database\n",
    "    '''\n",
    "    def addIncome(self):\n",
    "        date           = input('Date: ')\n",
    "        amount         = input('Amount: ')\n",
    "        category       = input('Category: ')\n",
    "        thirdParty     = input('Third Party: ')\n",
    "        place          = input('Place: ')\n",
    "        description    = input('Description: ')\n",
    "        \n",
    "        #New income creation\n",
    "        newIncome      = [date, amount, category, thirdParty, place, description]\n",
    "        \n",
    "        #Add the income to the data base\n",
    "        numberLocation = len(self.incomes)\n",
    "        self.incomes.loc[n] = newIncome\n",
    "        self.incomes,to_csv(self.inputs['dataRoute'] + self.inputs['incomesFileName'], index = False)\n",
    "    '''\n",
    "    'This function returns the total income\n",
    "    '@return total a variable of type integer\n",
    "    '''\n",
    "    def totalIncome(self):\n",
    "        total = self.incomes['AMOUNT'].sum()\n",
    "        return total\n",
    "    '''\n",
    "    'This function returns the total expenses\n",
    "    '@return total a variable of type integer\n",
    "    '''\n",
    "    def  totalExpenses(self):\n",
    "        total = self.expenses['AMOUNT'].sum()\n",
    "        return total\n",
    "    '''\n",
    "    'The total balance between the incomes and the expenses\n",
    "    '@return balance the finnal difference\n",
    "    '''\n",
    "    def balance(self):\n",
    "        balance = self.totalIncome() - self.totalExpense()\n",
    "        return balance\n",
    "    '''\n",
    "    'This function gives the financial report\n",
    "    '''\n",
    "    def financialReport(self):\n",
    "        print('\\n' + 'Financial Report' +  '\\n')\n",
    "        print('Total Income: {}'.format(self.totalIncome()))\n",
    "        print('Total Expenses: {}'.format(self.totalExpenses()))\n",
    "        print('Balance: {}'.format(self.balance()))"
   ]
  },
  {
   "cell_type": "code",
   "execution_count": null,
   "id": "1c7b2e0d",
   "metadata": {},
   "outputs": [],
   "source": [
    "'''\n",
    "'Input of the object FinancialPortfolio\n",
    "'''\n",
    "inputs = {\n",
    "    'dataRoute'        : '../data/',\n",
    "    'expensesFileName' : 'expenses.csv'\n",
    "    'incomesFileName'  : 'incomes.csv'\n",
    "}"
   ]
  }
 ],
 "metadata": {
  "kernelspec": {
   "display_name": "Python 3 (ipykernel)",
   "language": "python",
   "name": "python3"
  },
  "language_info": {
   "codemirror_mode": {
    "name": "ipython",
    "version": 3
   },
   "file_extension": ".py",
   "mimetype": "text/x-python",
   "name": "python",
   "nbconvert_exporter": "python",
   "pygments_lexer": "ipython3",
   "version": "3.9.12"
  }
 },
 "nbformat": 4,
 "nbformat_minor": 5
}
